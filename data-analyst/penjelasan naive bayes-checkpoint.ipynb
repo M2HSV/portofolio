{
 "cells": [
  {
   "cell_type": "code",
   "execution_count": 1,
   "id": "a3fe4569",
   "metadata": {},
   "outputs": [],
   "source": [
    "import pandas as pd\n",
    "import numpy as np\n",
    "import matplotlib.pyplot as plt\n",
    "from sklearn.model_selection import train_test_split\n",
    "from sklearn.naive_bayes import MultinomialNB\n",
    "from sklearn.metrics import accuracy_score, confusion_matrix\n",
    "\n",
    "# Baca data dari file Excel\n",
    "data = pd.read_excel('nama_file.xlsx')\n",
    "\n",
    "# Pisahkan fitur (X) dan label (y)\n",
    "X = data[['pH']]\n",
    "y = data['Label']\n",
    "\n",
    "# Bagi data menjadi data latih dan data uji\n",
    "X_train, X_test, y_train, y_test = train_test_split(X, y, test_size=0.2, random_state=42)\n",
    "\n",
    "# Inisialisasi dan latih model Naive Bayes\n",
    "model = MultinomialNB()\n",
    "model.fit(X_train, y_train)\n",
    "\n",
    "# Prediksi label untuk data uji\n",
    "y_pred = model.predict(X_test)\n",
    "\n",
    "# Evaluasi model\n",
    "accuracy = accuracy_score(y_test, y_pred)\n",
    "print(\"Akurasi:\", accuracy)\n",
    "\n",
    "# Buat scatter plot\n",
    "colors = {'ASAM': 'red', 'NORMAL': 'green', 'BASA': 'blue'}\n",
    "plt.figure(figsize=(10, 6))\n",
    "plt.scatter(X_test, y_test, c=[colors[label] for label in y_test], label='Data Asli')\n",
    "plt.scatter(X_test, y_pred, c=[colors[label] for label in y_pred], marker='x', label='Prediksi')\n",
    "plt.xlabel('pH')\n",
    "plt.ylabel('Label')\n",
    "plt.title('Prediksi Naive Bayes untuk Data pH')\n",
    "plt.legend()\n",
    "plt.show()\n"
   ]
  }
 ],
 "metadata": {
  "kernelspec": {
   "display_name": "Python 3 (ipykernel)",
   "language": "python",
   "name": "python3"
  },
  "language_info": {
   "codemirror_mode": {
    "name": "ipython",
    "version": 3
   },
   "file_extension": ".py",
   "mimetype": "text/x-python",
   "name": "python",
   "nbconvert_exporter": "python",
   "pygments_lexer": "ipython3",
   "version": "3.11.5"
  }
 },
 "nbformat": 4,
 "nbformat_minor": 5
}
