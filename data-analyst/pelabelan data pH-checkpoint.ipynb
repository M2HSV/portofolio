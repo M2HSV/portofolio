{
 "cells": [
  {
   "cell_type": "code",
   "execution_count": 207,
   "id": "40223fef",
   "metadata": {},
   "outputs": [],
   "source": [
    "import pandas as pd\n",
    "from sklearn.model_selection import train_test_split\n",
    "from sklearn.naive_bayes import GaussianNB\n",
    "from sklearn.metrics import accuracy_score, classification_report\n",
    "import matplotlib.pyplot as plt"
   ]
  },
  {
   "cell_type": "code",
   "execution_count": 208,
   "id": "e1d5a2ec",
   "metadata": {},
   "outputs": [],
   "source": [
    "data = pd.read_excel(\"data_akuarium_9.xlsx\")"
   ]
  },
  {
   "cell_type": "code",
   "execution_count": 209,
   "id": "92480b52",
   "metadata": {},
   "outputs": [
    {
     "name": "stdout",
     "output_type": "stream",
     "text": [
      "<bound method NDFrame.head of          pH\n",
      "0      7.91\n",
      "1      7.91\n",
      "2      7.91\n",
      "3      7.86\n",
      "4      7.88\n",
      "...     ...\n",
      "10000  7.55\n",
      "10001  7.56\n",
      "10002  7.69\n",
      "10003  7.63\n",
      "10004  7.56\n",
      "\n",
      "[10005 rows x 1 columns]>\n"
     ]
    }
   ],
   "source": [
    "print(data.head)"
   ]
  },
  {
   "cell_type": "code",
   "execution_count": 210,
   "id": "a7b0c746",
   "metadata": {},
   "outputs": [],
   "source": [
    "data = pd.read_excel(\"kalibrasi.xlsx\")"
   ]
  },
  {
   "cell_type": "code",
   "execution_count": 211,
   "id": "5ed00c02",
   "metadata": {},
   "outputs": [
    {
     "name": "stdout",
     "output_type": "stream",
     "text": [
      "<bound method NDFrame.head of       pH Kategori\n",
      "0    1.0     ASAM\n",
      "1    1.1     ASAM\n",
      "2    1.2     ASAM\n",
      "3    1.3     ASAM\n",
      "4    1.4     ASAM\n",
      "..   ...      ...\n",
      "86   9.6     BASA\n",
      "87   9.7     BASA\n",
      "88   9.8     BASA\n",
      "89   9.9     BASA\n",
      "90  10.0     BASA\n",
      "\n",
      "[91 rows x 2 columns]>\n"
     ]
    }
   ],
   "source": [
    "print(data.head)"
   ]
  },
  {
   "cell_type": "code",
   "execution_count": 212,
   "id": "1151e7c3",
   "metadata": {},
   "outputs": [],
   "source": [
    "X = data[['pH']].values\n",
    "y = data['Kategori'].values"
   ]
  },
  {
   "cell_type": "code",
   "execution_count": 213,
   "id": "fb541177",
   "metadata": {},
   "outputs": [],
   "source": [
    "X_train, X_test, y_train, y_test = train_test_split(X, y, test_size=0.2, random_state=42)\n"
   ]
  },
  {
   "cell_type": "code",
   "execution_count": 214,
   "id": "fe6bc529",
   "metadata": {},
   "outputs": [
    {
     "data": {
      "text/html": [
       "<style>#sk-container-id-12 {color: black;}#sk-container-id-12 pre{padding: 0;}#sk-container-id-12 div.sk-toggleable {background-color: white;}#sk-container-id-12 label.sk-toggleable__label {cursor: pointer;display: block;width: 100%;margin-bottom: 0;padding: 0.3em;box-sizing: border-box;text-align: center;}#sk-container-id-12 label.sk-toggleable__label-arrow:before {content: \"▸\";float: left;margin-right: 0.25em;color: #696969;}#sk-container-id-12 label.sk-toggleable__label-arrow:hover:before {color: black;}#sk-container-id-12 div.sk-estimator:hover label.sk-toggleable__label-arrow:before {color: black;}#sk-container-id-12 div.sk-toggleable__content {max-height: 0;max-width: 0;overflow: hidden;text-align: left;background-color: #f0f8ff;}#sk-container-id-12 div.sk-toggleable__content pre {margin: 0.2em;color: black;border-radius: 0.25em;background-color: #f0f8ff;}#sk-container-id-12 input.sk-toggleable__control:checked~div.sk-toggleable__content {max-height: 200px;max-width: 100%;overflow: auto;}#sk-container-id-12 input.sk-toggleable__control:checked~label.sk-toggleable__label-arrow:before {content: \"▾\";}#sk-container-id-12 div.sk-estimator input.sk-toggleable__control:checked~label.sk-toggleable__label {background-color: #d4ebff;}#sk-container-id-12 div.sk-label input.sk-toggleable__control:checked~label.sk-toggleable__label {background-color: #d4ebff;}#sk-container-id-12 input.sk-hidden--visually {border: 0;clip: rect(1px 1px 1px 1px);clip: rect(1px, 1px, 1px, 1px);height: 1px;margin: -1px;overflow: hidden;padding: 0;position: absolute;width: 1px;}#sk-container-id-12 div.sk-estimator {font-family: monospace;background-color: #f0f8ff;border: 1px dotted black;border-radius: 0.25em;box-sizing: border-box;margin-bottom: 0.5em;}#sk-container-id-12 div.sk-estimator:hover {background-color: #d4ebff;}#sk-container-id-12 div.sk-parallel-item::after {content: \"\";width: 100%;border-bottom: 1px solid gray;flex-grow: 1;}#sk-container-id-12 div.sk-label:hover label.sk-toggleable__label {background-color: #d4ebff;}#sk-container-id-12 div.sk-serial::before {content: \"\";position: absolute;border-left: 1px solid gray;box-sizing: border-box;top: 0;bottom: 0;left: 50%;z-index: 0;}#sk-container-id-12 div.sk-serial {display: flex;flex-direction: column;align-items: center;background-color: white;padding-right: 0.2em;padding-left: 0.2em;position: relative;}#sk-container-id-12 div.sk-item {position: relative;z-index: 1;}#sk-container-id-12 div.sk-parallel {display: flex;align-items: stretch;justify-content: center;background-color: white;position: relative;}#sk-container-id-12 div.sk-item::before, #sk-container-id-12 div.sk-parallel-item::before {content: \"\";position: absolute;border-left: 1px solid gray;box-sizing: border-box;top: 0;bottom: 0;left: 50%;z-index: -1;}#sk-container-id-12 div.sk-parallel-item {display: flex;flex-direction: column;z-index: 1;position: relative;background-color: white;}#sk-container-id-12 div.sk-parallel-item:first-child::after {align-self: flex-end;width: 50%;}#sk-container-id-12 div.sk-parallel-item:last-child::after {align-self: flex-start;width: 50%;}#sk-container-id-12 div.sk-parallel-item:only-child::after {width: 0;}#sk-container-id-12 div.sk-dashed-wrapped {border: 1px dashed gray;margin: 0 0.4em 0.5em 0.4em;box-sizing: border-box;padding-bottom: 0.4em;background-color: white;}#sk-container-id-12 div.sk-label label {font-family: monospace;font-weight: bold;display: inline-block;line-height: 1.2em;}#sk-container-id-12 div.sk-label-container {text-align: center;}#sk-container-id-12 div.sk-container {/* jupyter's `normalize.less` sets `[hidden] { display: none; }` but bootstrap.min.css set `[hidden] { display: none !important; }` so we also need the `!important` here to be able to override the default hidden behavior on the sphinx rendered scikit-learn.org. See: https://github.com/scikit-learn/scikit-learn/issues/21755 */display: inline-block !important;position: relative;}#sk-container-id-12 div.sk-text-repr-fallback {display: none;}</style><div id=\"sk-container-id-12\" class=\"sk-top-container\"><div class=\"sk-text-repr-fallback\"><pre>GaussianNB()</pre><b>In a Jupyter environment, please rerun this cell to show the HTML representation or trust the notebook. <br />On GitHub, the HTML representation is unable to render, please try loading this page with nbviewer.org.</b></div><div class=\"sk-container\" hidden><div class=\"sk-item\"><div class=\"sk-estimator sk-toggleable\"><input class=\"sk-toggleable__control sk-hidden--visually\" id=\"sk-estimator-id-12\" type=\"checkbox\" checked><label for=\"sk-estimator-id-12\" class=\"sk-toggleable__label sk-toggleable__label-arrow\">GaussianNB</label><div class=\"sk-toggleable__content\"><pre>GaussianNB()</pre></div></div></div></div></div>"
      ],
      "text/plain": [
       "GaussianNB()"
      ]
     },
     "execution_count": 214,
     "metadata": {},
     "output_type": "execute_result"
    }
   ],
   "source": [
    "model = GaussianNB()\n",
    "model.fit(X_train, y_train)"
   ]
  },
  {
   "cell_type": "code",
   "execution_count": 215,
   "id": "f27c1f4e",
   "metadata": {},
   "outputs": [],
   "source": [
    "y_pred = model.predict(X_test)"
   ]
  },
  {
   "cell_type": "code",
   "execution_count": 216,
   "id": "d3ed971e",
   "metadata": {},
   "outputs": [
    {
     "name": "stdout",
     "output_type": "stream",
     "text": [
      "Akurasi Model: 0.9473684210526315\n",
      "Laporan Klasifikasi:\n",
      "               precision    recall  f1-score   support\n",
      "\n",
      "        ASAM       1.00      1.00      1.00        14\n",
      "        BASA       0.67      1.00      0.80         2\n",
      "      NORMAL       1.00      0.67      0.80         3\n",
      "\n",
      "    accuracy                           0.95        19\n",
      "   macro avg       0.89      0.89      0.87        19\n",
      "weighted avg       0.96      0.95      0.95        19\n",
      "\n"
     ]
    }
   ],
   "source": [
    "accuracy = accuracy_score(y_test, y_pred)\n",
    "report = classification_report(y_test, y_pred)\n",
    "\n",
    "print(\"Akurasi Model:\", accuracy)\n",
    "print(\"Laporan Klasifikasi:\\n\", report)"
   ]
  },
  {
   "cell_type": "code",
   "execution_count": 217,
   "id": "984ebf32",
   "metadata": {},
   "outputs": [
    {
     "name": "stdout",
     "output_type": "stream",
     "text": [
      "Predicted category: ['NORMAL']\n"
     ]
    }
   ],
   "source": [
    "new_pH = [[7.8]]\n",
    "predicted_category = model.predict(new_pH)\n",
    "print(\"Predicted category:\", predicted_category)"
   ]
  },
  {
   "cell_type": "code",
   "execution_count": 218,
   "id": "1b4047ac",
   "metadata": {},
   "outputs": [],
   "source": [
    "data_new = pd.read_excel(\"data_akuarium_9.xlsx\")"
   ]
  },
  {
   "cell_type": "code",
   "execution_count": 219,
   "id": "f552736d",
   "metadata": {},
   "outputs": [],
   "source": [
    "new_pH = data_new['pH'].values.reshape(-1, 1)"
   ]
  },
  {
   "cell_type": "code",
   "execution_count": 220,
   "id": "d7508e42",
   "metadata": {},
   "outputs": [],
   "source": [
    "predicted_categories = model.predict(new_pH)"
   ]
  },
  {
   "cell_type": "code",
   "execution_count": 221,
   "id": "689a527e",
   "metadata": {},
   "outputs": [],
   "source": [
    "data_new['Predicted Category'] = predicted_categories"
   ]
  },
  {
   "cell_type": "code",
   "execution_count": 222,
   "id": "b166a719",
   "metadata": {},
   "outputs": [
    {
     "name": "stdout",
     "output_type": "stream",
     "text": [
      "         pH Predicted Category\n",
      "0      7.91             NORMAL\n",
      "1      7.91             NORMAL\n",
      "2      7.91             NORMAL\n",
      "3      7.86             NORMAL\n",
      "4      7.88             NORMAL\n",
      "...     ...                ...\n",
      "10000  7.55             NORMAL\n",
      "10001  7.56             NORMAL\n",
      "10002  7.69             NORMAL\n",
      "10003  7.63             NORMAL\n",
      "10004  7.56             NORMAL\n",
      "\n",
      "[10005 rows x 2 columns]\n"
     ]
    }
   ],
   "source": [
    "print(data_new)"
   ]
  },
  {
   "cell_type": "code",
   "execution_count": 223,
   "id": "aacfc6a0",
   "metadata": {},
   "outputs": [],
   "source": [
    "data_new.to_excel(\"data_akuarium_9_prediksi.xlsx\", index=False)"
   ]
  },
  {
   "cell_type": "code",
   "execution_count": 224,
   "id": "aa39ea89",
   "metadata": {},
   "outputs": [],
   "source": [
    "data = pd.read_excel(\"data_akuarium_9_prediksi.xlsx\")"
   ]
  },
  {
   "cell_type": "code",
   "execution_count": 225,
   "id": "bfd9c642",
   "metadata": {},
   "outputs": [
    {
     "data": {
      "image/png": "[encoded data removed]",
      "text/plain": [
       "<Figure size 1000x600 with 1 Axes>"
      ]
     },
     "metadata": {},
     "output_type": "display_data"
    }
   ],
   "source": [
    "ph = data['pH']\n",
    "kategori_ph = data['Predicted Category']\n",
    "\n",
    "# Membuat scatter plot\n",
    "plt.figure(figsize=(10, 6))\n",
    "plt.scatter(ph, kategori_ph, color='blue', alpha=0.5)  # alpha adalah transparansi titik\n",
    "plt.xlabel('pH')\n",
    "plt.ylabel('Kategori pH')\n",
    "plt.title('Sebaran Data pH dalam Aquarium 9')\n",
    "plt.grid(True)\n",
    "plt.show()"
   ]
  },
  {
   "cell_type": "code",
   "execution_count": 226,
   "id": "25af38fc",
   "metadata": {},
   "outputs": [
    {
     "name": "stdout",
     "output_type": "stream",
     "text": [
      "Nilai rata-rata dari data pH adalah: 7.693620609695152\n"
     ]
    }
   ],
   "source": [
    "data = pd.read_excel('data_akuarium_9_prediksi.xlsx')\n",
    "\n",
    "mean_ph = data['pH'].mean()\n",
    "\n",
    "print(\"Nilai rata-rata dari data pH adalah:\", mean_ph)"
   ]
  }
 ],
 "metadata": {
  "kernelspec": {
   "display_name": "Python 3 (ipykernel)",
   "language": "python",
   "name": "python3"
  },
  "language_info": {
   "codemirror_mode": {
    "name": "ipython",
    "version": 3
   },
   "file_extension": ".py",
   "mimetype": "text/x-python",
   "name": "python",
   "nbconvert_exporter": "python",
   "pygments_lexer": "ipython3",
   "version": "3.11.5"
  }
 },
 "nbformat": 4,
 "nbformat_minor": 5
}
